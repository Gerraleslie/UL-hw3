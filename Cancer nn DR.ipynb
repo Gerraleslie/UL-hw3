{
 "cells": [
  {
   "cell_type": "code",
   "execution_count": 37,
   "id": "a2d6c5dd",
   "metadata": {},
   "outputs": [],
   "source": [
    "from sklearn.decomposition import PCA\n",
    "from sklearn.decomposition import FastICA\n",
    "from sklearn.random_projection import GaussianRandomProjection\n",
    "from sklearn.decomposition import FactorAnalysis\n",
    "from sklearn import metrics\n",
    "from sklearn.metrics import silhouette_samples, silhouette_score\n",
    "from sklearn.mixture import GaussianMixture\n",
    "from sklearn.cluster import KMeans\n",
    "from time import time\n",
    "from sklearn.preprocessing import OneHotEncoder, StandardScaler\n",
    "import pandas as pd\n",
    "import matplotlib.pyplot as plt\n",
    "import numpy as np\n",
    "from sklearn.model_selection import KFold\n",
    "from sklearn.model_selection import cross_val_score\n",
    "from sklearn.metrics import mean_squared_error\n",
    "from sklearn.neural_network import MLPClassifier\n",
    "from sklearn.datasets import load_breast_cancer\n",
    "from sklearn.model_selection import GridSearchCV"
   ]
  },
  {
   "cell_type": "code",
   "execution_count": 38,
   "id": "9cb2f33b",
   "metadata": {},
   "outputs": [
    {
     "data": {
      "text/plain": [
       "(569,)"
      ]
     },
     "execution_count": 38,
     "metadata": {},
     "output_type": "execute_result"
    }
   ],
   "source": [
    "# define the size of the outout graph in later\n",
    "size = (10, 6)\n",
    "data_set = load_breast_cancer(as_frame=True)\n",
    "X = data_set.data\n",
    "y = data_set.target\n",
    "scaler = StandardScaler()\n",
    "scaler.fit(X)\n",
    "data_scaled = scaler.transform(X)\n",
    "X = pd.DataFrame(data=data_scaled, columns=X.columns)\n",
    "gmm_prob = GaussianMixture(n_components=2)\n",
    "gmm_prob.fit(X)\n",
    "cluster_gmm_prob = gmm_prob.predict_proba(X)\n",
    "cluster_gmm_prob[:, 0].shape"
   ]
  },
  {
   "cell_type": "code",
   "execution_count": 39,
   "id": "4fa8b1af",
   "metadata": {},
   "outputs": [],
   "source": [
    "pca = PCA(n_components=2)\n",
    "pca.fit(X)\n",
    "X_pca = pca.transform(X)\n",
    "\n",
    "ica = FastICA(n_components=2)\n",
    "ica.fit(X)\n",
    "X_ica = ica.transform(X)\n",
    "\n",
    "rp = GaussianRandomProjection(n_components=2)\n",
    "rp.fit(X)\n",
    "X_rp = rp.transform(X)\n",
    "\n",
    "fa = FactorAnalysis(n_components=2)\n",
    "fa.fit(X)\n",
    "X_fa = fa.transform(X)\n",
    "\n",
    "Xs = [X_pca, X_ica, X_rp, X_fa]\n",
    "names = ['PCA', 'ICA', 'RP', 'FA']"
   ]
  },
  {
   "cell_type": "code",
   "execution_count": 40,
   "id": "4e403bde",
   "metadata": {},
   "outputs": [],
   "source": [
    "from sklearn.model_selection import GridSearchCV\n",
    "tuned_parameters = [{'hidden_layer_sizes': [10, 20, 30, 40, 50, 60],\n",
    "                     'learning_rate_init':[0.01, 0.02, 0.03, 0.04]\n",
    "                     }]\n",
    "\n",
    "models_cv = {'PCA': None, 'ICA': None, 'RP': None}\n",
    "for data, algo in zip(Xs, names):\n",
    "    cv = GridSearchCV(MLPClassifier(max_iter=2000), tuned_parameters, cv=5)\n",
    "    cv.fit(data, y)\n",
    "    models_cv[algo]=cv"
   ]
  },
  {
   "cell_type": "code",
   "execution_count": 42,
   "id": "9ef75c41",
   "metadata": {},
   "outputs": [],
   "source": [
    "best_models = {'PCA': None, 'ICA': None, 'RP': None, 'FA': None}\n",
    "for data, algo in zip(Xs, names):\n",
    "    # plt.xticks(ks_kmeans, ks_kmeans)\n",
    "    # plt.setp(g, xticks=ks, xticklabels=ks)\n",
    "    model = MLPClassifier(\n",
    "        hidden_layer_sizes = models_cv[algo].best_params_['hidden_layer_sizes'], \n",
    "        learning_rate_init=models_cv[algo].best_params_['learning_rate_init'],\n",
    "        max_iter=2000)\n",
    "    \n",
    "    model.fit(data, y)\n",
    "    \n",
    "    best_models[algo] = model"
   ]
  },
  {
   "cell_type": "code",
   "execution_count": 43,
   "id": "3b91d103",
   "metadata": {},
   "outputs": [
    {
     "name": "stdout",
     "output_type": "stream",
     "text": [
      "PCA\n",
      "\n",
      "\n",
      "ICA\n",
      "\n",
      "\n",
      "RP\n",
      "\n",
      "\n",
      "FA\n",
      "\n",
      "\n"
     ]
    },
    {
     "data": {
      "image/png": "[encoded data removed]",
      "text/plain": [
       "<Figure size 720x432 with 1 Axes>"
      ]
     },
     "metadata": {
      "needs_background": "light"
     },
     "output_type": "display_data"
    }
   ],
   "source": [
    "fig, g = plt.subplots(1, 1, figsize=size)\n",
    "for algo in names:\n",
    "    g.set_title(\"Learning curves of NN\")\n",
    "    g.set_ylabel('Time')\n",
    "    g.set_xlabel('k')\n",
    "    print(algo)\n",
    "    print()\n",
    "    print()\n",
    "    g.plot(best_models[algo].loss_curve_, label=algo)\n",
    "    g.legend(shadow=True, fancybox=True)"
   ]
  },
  {
   "cell_type": "code",
   "execution_count": null,
   "id": "ec245bfc",
   "metadata": {},
   "outputs": [],
   "source": []
  },
  {
   "cell_type": "code",
   "execution_count": null,
   "id": "5b535822",
   "metadata": {},
   "outputs": [],
   "source": []
  }
 ],
 "metadata": {
  "kernelspec": {
   "display_name": "Python 3 (ipykernel)",
   "language": "python",
   "name": "python3"
  },
  "language_info": {
   "codemirror_mode": {
    "name": "ipython",
    "version": 3
   },
   "file_extension": ".py",
   "mimetype": "text/x-python",
   "name": "python",
   "nbconvert_exporter": "python",
   "pygments_lexer": "ipython3",
   "version": "3.9.7"
  }
 },
 "nbformat": 4,
 "nbformat_minor": 5
}
